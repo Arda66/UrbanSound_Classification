{
 "cells": [
  {
   "cell_type": "markdown",
   "metadata": {},
   "source": [
    "Import required libraries"
   ]
  },
  {
   "cell_type": "code",
   "execution_count": 1,
   "metadata": {},
   "outputs": [],
   "source": [
    "import pandas as pd\n",
    "import os\n",
    "import cv2\n",
    "import numpy as np\n",
    "from os import listdir\n",
    "from os.path import join\n"
   ]
  },
  {
   "cell_type": "markdown",
   "metadata": {},
   "source": [
    "Create an empty list for all images.\n"
   ]
  },
  {
   "cell_type": "code",
   "execution_count": 4,
   "metadata": {},
   "outputs": [],
   "source": [
    "final_list = []\n"
   ]
  },
  {
   "cell_type": "markdown",
   "metadata": {},
   "source": [
    "Read all images with for loop then convert them to grayscale -> resize -> normalize. Then append to the list with their class label number."
   ]
  },
  {
   "cell_type": "code",
   "execution_count": 3,
   "metadata": {},
   "outputs": [
    {
     "name": "stdout",
     "output_type": "stream",
     "text": [
      "Stored 'final_list' (list)\n"
     ]
    }
   ],
   "source": [
    "for folder_index in range(10):\n",
    "    path = 'audio_spectograms/'+str(folder_index)\n",
    "    for image_file in os.listdir(path):\n",
    "        image = cv2.imread(os.path.join(path,image_file))\n",
    "        gray = cv2.cvtColor(image,cv2.COLOR_BGR2GRAY)\n",
    "        resize = cv2.resize(gray,(256,256))\n",
    "        #convert image to float32\n",
    "        resize = np.asarray(resize).astype(np.float32)\n",
    "        #normalize the image between 0 and 1\n",
    "        normalize = resize/255.0 \n",
    "        #append normalize photos and their label (which is their class number) to the list\n",
    "        final_list.append([normalize,int(image_file.split('-')[1])]) \n",
    "#for saving the list and accessing from another notebook.\n",
    "%store final_list         "
   ]
  }
 ],
 "metadata": {
  "kernelspec": {
   "display_name": "Python 3.10.2 64-bit",
   "language": "python",
   "name": "python3"
  },
  "language_info": {
   "codemirror_mode": {
    "name": "ipython",
    "version": 3
   },
   "file_extension": ".py",
   "mimetype": "text/x-python",
   "name": "python",
   "nbconvert_exporter": "python",
   "pygments_lexer": "ipython3",
   "version": "3.10.2"
  },
  "orig_nbformat": 4,
  "vscode": {
   "interpreter": {
    "hash": "369f2c481f4da34e4445cda3fffd2e751bd1c4d706f27375911949ba6bb62e1c"
   }
  }
 },
 "nbformat": 4,
 "nbformat_minor": 2
}
